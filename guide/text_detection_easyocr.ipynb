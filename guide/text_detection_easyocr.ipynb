{
 "cells": [
  {
   "cell_type": "markdown",
   "metadata": {},
   "source": [
    "Text Detection with EasyOCR"
   ]
  },
  {
   "cell_type": "markdown",
   "metadata": {},
   "source": [
    "Import Libs"
   ]
  },
  {
   "cell_type": "code",
   "execution_count": 3,
   "metadata": {},
   "outputs": [],
   "source": [
    "import os\n",
    "import easyocr"
   ]
  },
  {
   "cell_type": "code",
   "execution_count": 4,
   "metadata": {},
   "outputs": [
    {
     "name": "stdout",
     "output_type": "stream",
     "text": [
      "1.4.2\n"
     ]
    }
   ],
   "source": [
    "print(easyocr.__version__)"
   ]
  },
  {
   "cell_type": "markdown",
   "metadata": {},
   "source": [
    "Import Image"
   ]
  },
  {
   "cell_type": "code",
   "execution_count": 10,
   "metadata": {},
   "outputs": [],
   "source": [
    "IMAGE_PATH = \"../sample_data/german_sample.jpeg\""
   ]
  },
  {
   "cell_type": "markdown",
   "metadata": {},
   "source": [
    "Add ssl for https if necessery"
   ]
  },
  {
   "cell_type": "code",
   "execution_count": 12,
   "metadata": {},
   "outputs": [],
   "source": [
    "import ssl\n",
    "ssl._create_default_https_context = ssl._create_unverified_context"
   ]
  },
  {
   "cell_type": "markdown",
   "metadata": {},
   "source": [
    "Create Reader without GPU Power"
   ]
  },
  {
   "cell_type": "code",
   "execution_count": 13,
   "metadata": {},
   "outputs": [
    {
     "name": "stderr",
     "output_type": "stream",
     "text": [
      "Using CPU. Note: This module is much faster with a GPU.\n",
      "Downloading detection model, please wait. This may take several minutes depending upon your network connection.\n"
     ]
    },
    {
     "name": "stdout",
     "output_type": "stream",
     "text": [
      "Progress: |██████████████████████████████████████████████████| 100.0% Complete"
     ]
    },
    {
     "name": "stderr",
     "output_type": "stream",
     "text": [
      "Downloading recognition model, please wait. This may take several minutes depending upon your network connection.\n"
     ]
    },
    {
     "name": "stdout",
     "output_type": "stream",
     "text": [
      "Progress: |██████████████████████████████████████████████████| 100.0% Complete"
     ]
    },
    {
     "data": {
      "text/plain": [
       "[([[581, 697], [1154, 697], [1154, 822], [581, 822]],\n",
       "  'THOMY',\n",
       "  0.5699840176361428),\n",
       " ([[788, 814], [936, 814], [936, 838], [788, 838]],\n",
       "  'Seit 1954',\n",
       "  0.536077218727329),\n",
       " ([[704, 882], [1014, 882], [1014, 932], [704, 932]],\n",
       "  'LES SAUCES',\n",
       "  0.9288367600396764),\n",
       " ([[554, 928], [1169, 928], [1169, 1041], [554, 1041]],\n",
       "  'HOLLANDAISE',\n",
       "  0.9993519228568829),\n",
       " ([[706, 1064], [1011, 1064], [1011, 1132], [706, 1132]],\n",
       "  'LAKTOSEFREI',\n",
       "  0.9872042873290097),\n",
       " ([[600, 1166], [748, 1166], [748, 1202], [600, 1202]],\n",
       "  'FREiLAND-',\n",
       "  0.2409089034079113),\n",
       " ([[550, 1196], [588, 1196], [588, 1220], [550, 1220]],\n",
       "  'MIT',\n",
       "  0.9609034711652383),\n",
       " ([[597, 1195], [741, 1195], [741, 1255], [597, 1255]],\n",
       "  'EIERN',\n",
       "  0.8196979599886905),\n",
       " ([[543, 1660], [692, 1660], [692, 1690], [543, 1690]],\n",
       "  'NuTri-score',\n",
       "  0.30577448618212116),\n",
       " ([[491, 1779], [777, 1779], [777, 1817], [491, 1817]],\n",
       "  'Mehr Informationen unter',\n",
       "  0.9905715887591136),\n",
       " ([[490, 1818], [556, 1818], [556, 1844], [490, 1844]],\n",
       "  'WWW',\n",
       "  0.4280841306207599),\n",
       " ([[550, 1801], [781, 1801], [781, 1846], [550, 1846]],\n",
       "  'thomy delnutriscore',\n",
       "  0.8009974040479444),\n",
       " ([[1029, 1806], [1222, 1806], [1222, 1863], [1029, 1863]],\n",
       "  'Serviervorschlag',\n",
       "  0.9018226584718054)]"
      ]
     },
     "execution_count": 13,
     "metadata": {},
     "output_type": "execute_result"
    }
   ],
   "source": [
    "reader = easyocr.Reader(['de'], gpu=False)\n",
    "result = reader.readtext(IMAGE_PATH)\n",
    "result"
   ]
  }
 ],
 "metadata": {
  "interpreter": {
   "hash": "aee8b7b246df8f9039afb4144a1f6fd8d2ca17a180786b69acc140d282b71a49"
  },
  "kernelspec": {
   "display_name": "Python 3.10.4 64-bit",
   "language": "python",
   "name": "python3"
  },
  "language_info": {
   "codemirror_mode": {
    "name": "ipython",
    "version": 3
   },
   "file_extension": ".py",
   "mimetype": "text/x-python",
   "name": "python",
   "nbconvert_exporter": "python",
   "pygments_lexer": "ipython3",
   "version": "3.10.4"
  },
  "orig_nbformat": 4
 },
 "nbformat": 4,
 "nbformat_minor": 2
}
